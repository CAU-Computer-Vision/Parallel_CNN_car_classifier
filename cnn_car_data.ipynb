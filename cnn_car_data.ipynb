version https://git-lfs.github.com/spec/v1
oid sha256:f18a2e6272d007039a9285d2d326360bdb023c4c03cf7217250f704aa78a7843
size 389222
